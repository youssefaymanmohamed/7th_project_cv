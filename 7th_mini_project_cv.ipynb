{
 "cells": [
  {
   "cell_type": "markdown",
   "metadata": {},
   "source": [
    "### 7th Mini Project\n",
    "- Name: Youssef Ayman Mohamed \n",
    "- RegNum: 211000348"
   ]
  },
  {
   "cell_type": "markdown",
   "metadata": {},
   "source": [
    "## Import necessary libraries"
   ]
  },
  {
   "cell_type": "code",
   "execution_count": null,
   "metadata": {},
   "outputs": [],
   "source": [
    "import numpy as np\n",
    "import cv2\n",
    "import matplotlib.pyplot as plt\n",
    "from skimage.feature import local_binary_pattern, hog\n",
    "from sklearn.decomposition import PCA\n",
    "from sklearn.discriminant_analysis import LinearDiscriminantAnalysis as LDA\n",
    "import tensorflow as tf\n",
    "from tensorflow.keras.applications import VGG16, ResNet50, InceptionV3\n",
    "from tensorflow.keras.preprocessing import image\n",
    "from tensorflow.keras.applications.vgg16 import preprocess_input\n",
    "\n",
    "# Own library that contains all the functions used in this project\n",
    "from utils import *"
   ]
  },
  {
   "cell_type": "markdown",
   "metadata": {},
   "source": [
    "## Read Datasets"
   ]
  },
  {
   "cell_type": "code",
   "execution_count": 2,
   "metadata": {},
   "outputs": [
    {
     "name": "stdout",
     "output_type": "stream",
     "text": [
      "Loaded 5640 images from DTD dataset\n",
      "Loaded 1000 images from Corel dataset\n"
     ]
    }
   ],
   "source": [
    "# Define the paths to the datasets\n",
    "dtd_path = './dtd'\n",
    "corel_path = './corel'\n",
    "\n",
    "\n",
    "\n",
    "# Load images from both datasets\n",
    "dtd_images = load_images_from_folder(dtd_path)\n",
    "corel_images = load_images_from_folder(corel_path)\n",
    "\n",
    "# Display the number of images loaded\n",
    "print(f'Loaded {len(dtd_images)} images from DTD dataset')\n",
    "print(f'Loaded {len(corel_images)} images from Corel dataset')"
   ]
  },
  {
   "cell_type": "markdown",
   "metadata": {},
   "source": [
    "## Color Histograms"
   ]
  },
  {
   "cell_type": "code",
   "execution_count": null,
   "metadata": {},
   "outputs": [],
   "source": [
    "#Calculate color histograms for the images.\n",
    "\n",
    "# Extract features from all images\n",
    "color_histograms = [extract_color_histogram(img) for img in all_images]\n",
    "lbp_features = [extract_lbp(img) for img in all_images]\n",
    "hog_features = [extract_hog(img) for img in all_images]\n",
    "\n",
    "# Convert lists to numpy arrays\n",
    "color_histograms = np.array(color_histograms)\n",
    "lbp_features = np.array(lbp_features)\n",
    "hog_features = np.array(hog_features)\n",
    "\n",
    "# Print the shape of the extracted features\n",
    "print(\"Color Histograms shape:\", color_histograms.shape)\n",
    "print(\"LBP Features shape:\", lbp_features.shape)\n",
    "print(\"HOG Features shape:\", hog_features.shape)"
   ]
  }
 ],
 "metadata": {
  "kernelspec": {
   "display_name": "base",
   "language": "python",
   "name": "python3"
  },
  "language_info": {
   "codemirror_mode": {
    "name": "ipython",
    "version": 3
   },
   "file_extension": ".py",
   "mimetype": "text/x-python",
   "name": "python",
   "nbconvert_exporter": "python",
   "pygments_lexer": "ipython3",
   "version": "3.11.7"
  }
 },
 "nbformat": 4,
 "nbformat_minor": 2
}
